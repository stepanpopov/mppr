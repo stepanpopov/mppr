{
  "cells": [
    {
      "cell_type": "markdown",
      "metadata": {
        "id": "HsvLg8M8ebUX"
      },
      "source": [
        "# Лабораторная работа №3"
      ]
    },
    {
      "cell_type": "markdown",
      "metadata": {
        "id": "VrOocc6D_O7M"
      },
      "source": [
        "# Задание\n",
        "\n",
        "Необходимо познакомиться с фреймворком машинного обучения PyTorch и выполнить три задания:\n",
        "1. Обучить полносвязную нейронную сеть классификации 3 классов изображений из набора данных CIFAR100 по варианту с точностью на тестовой выборке не менее 70%.  \n",
        "Для задания нужно сформировать свою подвыборку CIFAR100 по варианту.\n",
        "2. Преобразовать модель в ONNX и сохранить локально.\n",
        "3. Протестировать обученную модель на своих изображениях.\n",
        " *   Скачать каталог с html-файлом и встроить в него файл модели, обученной на ЛР.\n",
        " *   Скачать картинки из интернета согласно варианту и открыть их в html по кнопке. Автоматически в скрипте масштабируется изображение.\n",
        " *  Выбрать нужные классы для готовой модели. Проверить на устойчивость полносвязную модель, двигая картинку.\n",
        "\n",
        "Лабораторные выполняются на платформе Google Colab - просто перейдите по ссылки в начале ноутбука. Также можно работать с ноубуками лабораторных локально.\n",
        "\n",
        "Отчет должен содержать: титульный лист, задание с вариантом, скриншоты и краткие пояснения по каждому этапу лабораторной работы, итоговую таблицу со результатами для всех вариантов обучения."
      ]
    },
    {
      "cell_type": "markdown",
      "metadata": {
        "id": "fpq20OpJhje4"
      },
      "source": [
        "# Варианты для Задания\n",
        "Вы должны использовать следующие классы из CIFAR100:\n",
        "1. Номер группы\n",
        "2. Номер варианта\n",
        "3. Номер варианта + 30"
      ]
    },
    {
      "cell_type": "markdown",
      "metadata": {
        "id": "UNO1xJtZdf37"
      },
      "source": [
        "# Задания для самостоятельной работы\n",
        "1. Проанализируйте результаты обучения вашей модели. Что говорит о ней точность на обучающей и тестовой выборке? С какими классами модель справляется лучше и почему?\n",
        "2. Проанализируйте результаты обучения. Возникает ли переобучение вашей модели? Что необходимо сделать, чтобы нивелировать это (не используя регуляризацию)?\n",
        "3. Измените размер батча, но сохраните общее количество итераций. Проанализируйте результаты обучения с новыми гиперпараметрами. Что изменилось и почему?\n",
        "4. Уменьшите скорость обучения и увеличьте общее количество итераций, чтобы повысить точность модели.\n",
        "5. Измените вашу модель - поменяйте количество нейронов и слоев. Проанализируйте результаты обучения новой модели. Найдите лучшие гиперпараметры для этой модели.\n",
        "6. Укажите, какие действия помогли повысить точность вашей модели и объясните почему.\n",
        "\n",
        "# Комментарии к самостоятельной работе\n",
        "- Изменение скорости обучения и размера батча делаем только после нахождения момента переобучения - эпохи где ошибка на тестовой выборке самая маленькая. Иначе улучшением шагов вы можете усилить переобучение (улучшаться при обучении, ухудшаться для теста).\n",
        "\n",
        "- увеличение размера батча при том же числе итераций должно хоть немного (в среднем) улучшить обучение. Потому что мы делаем такое же количество, но более хороших шагов. Это может не сходится с опытом по разным причинам, но из теории мы ожидаем какое-то улучшение\n",
        "\n",
        "- Во сколько раз меняете скорость обучения или размер батча - во столько же меняете количество эпох для сохранения итераций. На практике это условие не нужно, потому что при новом обучении меняют сразу много гиперпараметров. Но мы учимся, поэтому исследуем поведение каждого гиперпараметра отдельно: мы не можем сравнить 5 больших шагов и 7 маленьких, можем сравнить 5 больших и 5 маленьких.\n",
        "\n",
        "- При изменении модели нужно искать гиперпараметры заново - это новая модель. Не нужно расписывать снова все шаги, просто сделайте это сами - найдите переобучение и поищите скорость и размер батча, которые будут лучше.\n",
        "\n",
        "# Контрольные вопросы\n",
        "1. Что такое функция потерь\n",
        "2. Что такое оптимизатор\n",
        "3. Что такое активационная функция\n",
        "4. Полносвязная нейронная сеть\n",
        "5. Количество нейронов связей и весов в полносвязной нейронной сети\n",
        "6. Что такое эпоха, итерация, батч обучения\n",
        "7. Что такое тестовая, обучающая выборка\n",
        "8. Как устроен набор данных, какие в нем данные и их количество\n",
        "9. Что такое PyTorch\n",
        "10. Обучение с учителем\n",
        "11. Задачи регрессии и классификации"
      ]
    },
    {
      "cell_type": "markdown",
      "metadata": {
        "id": "A-_h3HHejNYm"
      },
      "source": [
        "# Описание итоговой таблицы\n",
        "\n",
        "|  Конфигурация нейросети   |  Гиперпараметры  |  Точность  |  Комментарий\n",
        "|----------|----------|----------|----------|\n",
        "|  FC(10), FC(3)   | lr = 0.003, batch_size = 128, epochs = 100  |  test = 70%, train = 98%  |  Базовый вариант\n",
        "|  FC(10), FC(3)   | lr = 0.001, batch_size = 128, epochs = 300  |  test = 72%, train = 99%  |  Уменьшили скорость обучения в 3 раза, для компенсации увеличили количество эпох в столько же раз"
      ]
    },
    {
      "cell_type": "markdown",
      "metadata": {
        "id": "IKXfCiiWf2MK"
      },
      "source": [
        "# Библиотеки:\n",
        "\n",
        "* __np__ - библиотека NumPy для работы с многомерными массивами данных\n",
        "* __pickle__ - библиотека Pickle для сериализации и десериализации структур данных ЯП Python\n",
        "* __sklearn__ - библиотека, реализующая в основном методы классического машинного обучения и инструменты для работы с ними\n",
        "* __PIL__ - легковесная библиотека Pillow для работы с изображениями и вывода графических элементов напрямую в Jupyter Notebook\n",
        "* __matplotlib__ - библиотека для построения графиков, по большей части повторяет API Matlab'a\n",
        "* __torch__ - библиотека Pytorch для глубокого обучения нейронных сетей"
      ]
    },
    {
      "cell_type": "markdown",
      "metadata": {
        "id": "MMmc6jvid-XB"
      },
      "source": [
        "__Принятые сокращения__:\n",
        "* torch.nn - nn\n",
        "* torch.nn.functional - F\n",
        "* torch.optim - optim\n",
        "\n",
        "__Методы__:\n",
        "* __torch.Tensor__ - cоздает тензор из многомерного массива Numpy и наследует его тип данных. По умолчанию память под тензоры выделяется на CPU. При выставлении флага __requires_grad__ автоматически отслеживает градиенты с помощью движка autograd, который строит динамический вычислительный граф. Включить отслеживания тензора __t__ можно так же при помощи метода __t.requires_grad_(True)__. В таком случае после вызова метода __backward__, в поле __grad__ будут записаны производные. Производные тензора __t__ можно очистить вызовом метода __t.grad.zero_()__. Для того чтобы отсечь ненужные вычисления производных используется метод __detach__, который создаёт копию тензора, при этом флаг __requires_grad__ снимается и отслеживание движком autograd прекращается.\n",
        "\n",
        "* __torch.numpy__ - создает многомерный NumPy массив данных из тензора\n",
        "\n",
        "* __torch.item__ - возвращает число, но только если ранг тензора 0. В противном случае выдаёт ошибку и следует использовать torch.numpy\n",
        "\n",
        "* __torch.uint8__, __torch.int16__, __torch.int64__, __torch.float32__ - приведение массива к новому типу, аналогично NumPy. Для приведения используется метод .to (например `t.to(torch.int64)`). По умолчанию все вычисления на графе производятся в float64, есть также возможность использования mixed precision (что-то во float16, что-то во float64), но это считается продвинутой техникой.\n",
        "\n",
        "* __torch.ones__, __torch.zeros__, __torch.transpose__, __torch.reshape__ - API похожий, как у NumPy\n",
        "\n",
        "* __torch.rand__ - создание случайного тензора с числами в диапазоне от 0 до 1. Размерность перечисляется через запятую\n",
        "\n",
        "* __torch.t__ - транспонирование тензора, похоже на рассмотренный ранее __numpy.transpose__. Если дан тензор X, то можно его транспонировать при помощи `X.t()`\n",
        "\n",
        "* __torch.sum__ - суммирование элементов тензора вдоль указанной оси __axis__. Если суммирование производится вдоль последней оси, то разрешается указать вместо номера -1. Для сохранения исходной размерности тензора, необходимо выставить флаг __keepdims__.\n",
        "\n",
        "* __torch.maximum__ - производит поэлементное сравнение тензоров и возвращает максимальный из элементов. На практике используется для реализации некоторых функций активации нейронной сети\n",
        "\n",
        "* __torch.mm__ - произведение тензоров. Для 2 двухмерных матриц с размерностями (M, N) и (N, K) результатом данного метода будет двухмерная матрица размерностью (M, K)\n",
        "\n",
        "* __torch.exp__ - повторяет функционал __numpy.exp__ - поэлементное возведение тензора в степень экспоненты\n",
        "\n",
        "* __torch.log__ - поэлементная операция логарифмирования тензора - взятие натурального логарифма, обратная операция потенциирования\n",
        "\n",
        "* __torch.flatten__ - аналогично NumPy .reshape(-1), если указан параметр start_dim, то начинает \"выпрямление\" массива начиная с указанного номера. Т.е. для того, чтобы перевести тензор t с формой (100, 32, 32, 3) в форму (100, 3072) достаточно написать `torch.flatten(t, start_dim=1)`\n",
        "\n",
        "* __F.one_hot__ - один из многих способов получить горячую кодировку класса в виде PyTorch тензора. Например, для 5 классов, горячая кодировка класса \"4\" будет [0, 0, 0, 1, 0]\n",
        "\n",
        "* __torch.utils.data.TensorDataset__ - создание связанных тензоров, например обучающих примеров и соответствующих меток. В качестве аргумента передаются тензоры. Приемлемый способ создания набора данных, когда обучающая выборка некрупная и полностью помещается в оперативной памяти.\n",
        "\n",
        "* __torch.utils.data.DataLoader__ - В основе утилиты загрузки данных PyTorch лежит класс DataLoader. Он представляет собой Python объект, повторяющийся по набору данных, с поддержкой набора данных в стиле map и итератора; настройки порядка загрузки данных; автоматического разбиения на минибатчи;загрузки данных в один и несколько процессов/потоков. Самые полезные аргументы в конструкторе - размер мини-батча __batch_size__ и число параллельных процессов __num_workers__. Чтобы перемешать данные (для лучшей сходимости), следует выставить флаг __shuffle__ в True\n",
        "\n",
        "* __torch.save__ - сохранение параметров модели на постоянный носитель информации. Для этого первым аргументом передаётся model.state_dict(), где model - обученная нейросетевая модель, а вторым аргументов передаётся путь с именем файла.\n"
      ]
    },
    {
      "cell_type": "markdown",
      "metadata": {
        "id": "fzjC1ECbdj-Z"
      },
      "source": [
        "## Импортирование необходимых библиотек"
      ]
    },
    {
      "cell_type": "code",
      "execution_count": 1,
      "metadata": {
        "id": "3O2PElov-nod"
      },
      "outputs": [],
      "source": [
        "import numpy as np\n",
        "import torch\n",
        "import torch.optim as optim\n",
        "import torch.nn as nn\n",
        "import torch.nn.functional as F\n",
        "from torch.utils.data import TensorDataset, DataLoader\n",
        "import pickle\n",
        "from sklearn.metrics import classification_report\n",
        "from sklearn.datasets import make_circles, make_moons\n",
        "from PIL import Image\n",
        "import matplotlib.pyplot as plt\n",
        "%matplotlib inline"
      ]
    },
    {
      "cell_type": "markdown",
      "metadata": {
        "id": "OF4X4J8_YlLo"
      },
      "source": [
        "# Классификация изображений CIFAR100"
      ]
    },
    {
      "cell_type": "markdown",
      "metadata": {
        "id": "L9a6SxoWvwKs"
      },
      "source": [
        "Cifar100 - набор данных,состоящий из цветных изображений (3 цвета) 100 классов.\n",
        "Размер набора 32 на 32 пикселя."
      ]
    },
    {
      "cell_type": "markdown",
      "metadata": {
        "id": "4zoT9OgeY7cZ"
      },
      "source": [
        "## Загрузка и распаковка набора данных CIFAR100"
      ]
    },
    {
      "cell_type": "code",
      "execution_count": 2,
      "metadata": {
        "colab": {
          "base_uri": "https://localhost:8080/"
        },
        "id": "QDPzQmviB8IT",
        "outputId": "67fcb3ce-471e-4f30-c0cd-93b6c9a4f69d"
      },
      "outputs": [
        {
          "output_type": "stream",
          "name": "stdout",
          "text": [
            "--2024-11-23 15:10:18--  https://www.cs.toronto.edu/~kriz/cifar-100-python.tar.gz\n",
            "Resolving www.cs.toronto.edu (www.cs.toronto.edu)... 128.100.3.30\n",
            "Connecting to www.cs.toronto.edu (www.cs.toronto.edu)|128.100.3.30|:443... connected.\n",
            "HTTP request sent, awaiting response... 200 OK\n",
            "Length: 169001437 (161M) [application/x-gzip]\n",
            "Saving to: ‘cifar-100-python.tar.gz’\n",
            "\n",
            "cifar-100-python.ta 100%[===================>] 161.17M  48.3MB/s    in 3.6s    \n",
            "\n",
            "2024-11-23 15:10:22 (44.8 MB/s) - ‘cifar-100-python.tar.gz’ saved [169001437/169001437]\n",
            "\n",
            "cifar-100-python/\n",
            "cifar-100-python/file.txt~\n",
            "cifar-100-python/train\n",
            "cifar-100-python/test\n",
            "cifar-100-python/meta\n"
          ]
        }
      ],
      "source": [
        "!wget https://www.cs.toronto.edu/~kriz/cifar-100-python.tar.gz\n",
        "!tar -xvzf cifar-100-python.tar.gz"
      ]
    },
    {
      "cell_type": "markdown",
      "metadata": {
        "id": "mtz5rqMlZD2x"
      },
      "source": [
        "## Чтение тренировочной и тестовой выборки"
      ]
    },
    {
      "cell_type": "markdown",
      "metadata": {
        "id": "RyAKP-crsJFx"
      },
      "source": [
        "**Обучающие данные** – данные, на которых проводится обучение модели.  \n",
        "**Тестовые данные** – данные, на которых проводится измерение точности модели.  \n",
        "Обучающая и тестовая выборки не должны пересекаться."
      ]
    },
    {
      "cell_type": "code",
      "execution_count": 3,
      "metadata": {
        "colab": {
          "base_uri": "https://localhost:8080/",
          "height": 273
        },
        "id": "49KAR3NoDbEp",
        "outputId": "43e7173f-7020-4145-f25e-d727119592b4"
      },
      "outputs": [
        {
          "output_type": "execute_result",
          "data": {
            "text/plain": [
              "<PIL.Image.Image image mode=RGB size=256x256>"
            ],
            "image/png": "[encoded data removed]",
            "image/jpeg": "[encoded data removed]"
          },
          "metadata": {},
          "execution_count": 3
        }
      ],
      "source": [
        "# Чтение тренировочной выборки (обучающих данных)\n",
        "with open('cifar-100-python/train', 'rb') as f:\n",
        "    data_train = pickle.load(f, encoding='latin1')\n",
        "\n",
        "# Чтение тестовой выборки (тестовых данных)\n",
        "with open('cifar-100-python/test', 'rb') as f:\n",
        "    data_test = pickle.load(f, encoding='latin1')\n",
        "\n",
        "# Здесь указать ваши классы по варианту!!!\n",
        "# Переформируем выборку и оставляем только 3 указанных класса.\n",
        "CLASSES = [3, 15, 45]\n",
        "\n",
        "train_X = data_train['data'].reshape(-1, 3, 32, 32)\n",
        "train_X = np.transpose(train_X, [0, 2, 3, 1]) # NCHW -> NHWC\n",
        "train_y = np.array(data_train['fine_labels'])\n",
        "mask = np.isin(train_y, CLASSES)\n",
        "train_X = train_X[mask].copy()\n",
        "train_y = train_y[mask].copy()\n",
        "train_y = np.unique(train_y, return_inverse=1)[1]\n",
        "del data_train\n",
        "\n",
        "test_X = data_test['data'].reshape(-1, 3, 32, 32)\n",
        "test_X = np.transpose(test_X, [0, 2, 3, 1])\n",
        "test_y = np.array(data_test['fine_labels'])\n",
        "mask = np.isin(test_y, CLASSES)\n",
        "test_X = test_X[mask].copy()\n",
        "test_y = test_y[mask].copy()\n",
        "test_y = np.unique(test_y, return_inverse=1)[1]\n",
        "del data_test\n",
        "Image.fromarray(train_X[50]).resize((256,256))"
      ]
    },
    {
      "cell_type": "markdown",
      "metadata": {
        "id": "VJHI8GhtZO8F"
      },
      "source": [
        "## Создание Pytorch DataLoader'a"
      ]
    },
    {
      "cell_type": "markdown",
      "metadata": {
        "id": "XvtAqOZw4gDi"
      },
      "source": [
        "Батч - количество изображений (часть датасета), на которых модель обучается за одну итерацию.  \n",
        "Пример:  \n",
        "Датасет - 1000 изображений. Батч - 100 изображений. Значит, весь дата сет обучится за 10 итераций."
      ]
    },
    {
      "cell_type": "code",
      "execution_count": 4,
      "metadata": {
        "colab": {
          "base_uri": "https://localhost:8080/"
        },
        "id": "a77Fex1TIhGE",
        "outputId": "d204d452-6464-4753-9cd5-527bb2fad75d"
      },
      "outputs": [
        {
          "output_type": "execute_result",
          "data": {
            "text/plain": [
              "{'train': <torch.utils.data.dataloader.DataLoader at 0x7da2c6bd3c70>,\n",
              " 'test': <torch.utils.data.dataloader.DataLoader at 0x7da2c6bd1750>}"
            ]
          },
          "metadata": {},
          "execution_count": 4
        }
      ],
      "source": [
        "# Указываем размер батча\n",
        "batch_size = 128\n",
        "\n",
        "dataloader = {}\n",
        "for (X, y), part in zip([(train_X, train_y), (test_X, test_y)],\n",
        "                        ['train', 'test']):\n",
        "    tensor_x = torch.Tensor(X)\n",
        "    tensor_y = F.one_hot(torch.Tensor(y).to(torch.int64),\n",
        "                                     num_classes=len(CLASSES))/1.\n",
        "    dataset = TensorDataset(tensor_x, tensor_y) # создание объекта датасета\n",
        "    dataloader[part] = DataLoader(dataset, batch_size=batch_size, shuffle=True) # создание экземпляра класса DataLoader\n",
        "dataloader"
      ]
    },
    {
      "cell_type": "markdown",
      "metadata": {
        "id": "U7rQDTnud4Ha"
      },
      "source": [
        "# Создание моделей"
      ]
    },
    {
      "cell_type": "markdown",
      "metadata": {
        "id": "mM59NsM-d-XC"
      },
      "source": [
        "Создание моделей осуществляется при помощи модуля nn, при этом в модуле уже реализованы самые популярные блоки нейронных сетей или слои, такие как:\n",
        "* полносвязный слов Linear\n",
        "* свёрточный слой Conv2d\n",
        "* пуллинг MaxPool2d\n",
        "* нормализация BatchNorm2d\n",
        "* множество активационных функций ReLU, Softmax, Tanh\n",
        "* слои-регуляризаторы, например Dropout\n",
        "\n",
        "В данной лабораторной работе мы рассмотрим лишь 2 блока-кирпичика нейронной сети из выше приведённого списка, а именно Linear и ReLU.\n",
        "\n",
        "Задать модель можно 2 способам:\n",
        "\n",
        "1. при помощи nn.Sequential\n",
        "2. при помощи наследования от класса nn.Module\n",
        "\n",
        "Первый способ подходит для создания простых моделей без ответвлений. По сути их можно представить как конвейер, где входной тензор передается ряду последовательно приведённых трансформаций для получения выходного тензора.\n",
        "\n",
        "Если необходимо применять более сложные архитектуры, где конвейерные дорожки могут разветвляться на несколько частей, то используется nn.Module. Данный подход позволяет реализовать самые разные архитектуры.\n",
        "\n",
        "Для создания простого многослойного перцептрона с одним скрытым слоем и функцией нелинейности, согласно первому способу достаточно написать следующий код:\n",
        "\n",
        "    model = nn.Sequential(\n",
        "      nn.Linear(input_dims, hidden_dims),\n",
        "      nn.ReLU(),\n",
        "      nn.Linear(hidden_dims, num_classes)\n",
        "    )\n",
        "\n",
        "Для создания простого многослойного перцептрона с одним скрытым слоем и функцией нелинейности, согласно второму способу необходимо создать класс и модель как экземпляр этого класса:\n",
        "\n",
        "    class MLP(nn.Module):\n",
        "        def __init__(self, input_dims, hidden_dims, num_classes,\n",
        "                     *args, **kwargs):\n",
        "            super(MLP, self).__init__()\n",
        "            self.fc1 = Linear(input_dims, hidden_dims)\n",
        "            self.fc2 = Linear(hidden_dims, num_classes)\n",
        "        \n",
        "        def forward(self, input):\n",
        "             x = self.fc1(input)\n",
        "             x = F.relu(x)\n",
        "             x = self.fc2(x)\n",
        "             return x\n",
        "    \n",
        "    model = MLP(input_dims, hidden_dims, num_classes)\n",
        "\n",
        "При этом допускается вкладывать nn.Module и nn.Sequential внутри других модулей, что позволяет создавать очень сложные архитектуры моделей.\n",
        "\n"
      ]
    },
    {
      "cell_type": "markdown",
      "metadata": {
        "id": "uyEOF7T8AimW"
      },
      "source": [
        "## Архитектура нейронной сети  \n",
        "![Архитектура нейронной сети.png](data:image/png;base64,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)"
      ]
    },
    {
      "cell_type": "markdown",
      "metadata": {
        "id": "FxcEeFaHZV-G"
      },
      "source": [
        "## Создание Pytorch модели многослойного перцептрона с одним скрытым слоем"
      ]
    },
    {
      "cell_type": "code",
      "execution_count": 5,
      "metadata": {
        "colab": {
          "base_uri": "https://localhost:8080/"
        },
        "id": "jxfiec1w_bLr",
        "outputId": "186b8786-2b6b-4bd8-ba3d-684a955942ca"
      },
      "outputs": [
        {
          "output_type": "execute_result",
          "data": {
            "text/plain": [
              "Cifar100_MLP(\n",
              "  (norm): Normalize()\n",
              "  (seq): Sequential(\n",
              "    (0): Linear(in_features=3072, out_features=10, bias=True)\n",
              "    (1): ReLU()\n",
              "    (2): Linear(in_features=10, out_features=3, bias=True)\n",
              "  )\n",
              ")"
            ]
          },
          "metadata": {},
          "execution_count": 5
        }
      ],
      "source": [
        "class Normalize(nn.Module):\n",
        "    def __init__(self, mean, std):\n",
        "        super(Normalize, self).__init__()\n",
        "        self.mean = torch.tensor(mean)\n",
        "        self.std = torch.tensor(std)\n",
        "\n",
        "    def forward(self, input):\n",
        "        x = input / 255.0\n",
        "        x = x - self.mean\n",
        "        x = x / self.std\n",
        "        return torch.flatten(x, start_dim=1) # nhwc -> nm\n",
        "\n",
        "# Создадим простой многослойный перцептрон с одним скрытым слоем и функцией нелинейности.\n",
        "# Количество скрытых слоев можно изменять.\n",
        "class Cifar100_MLP(nn.Module):\n",
        "    def __init__(self, hidden_size=32, classes=100):\n",
        "        super(Cifar100_MLP, self).__init__()\n",
        "        # https://blog.jovian.ai/image-classification-of-cifar100-dataset-using-pytorch-8b7145242df1\n",
        "        self.norm = Normalize([0.5074,0.4867,0.4411],[0.2011,0.1987,0.2025])\n",
        "        self.seq = nn.Sequential(\n",
        "            nn.Linear(32*32*3, hidden_size),\n",
        "            nn.ReLU(), # активационная функция\n",
        "            nn.Linear(hidden_size, classes),\n",
        "        )\n",
        "\n",
        "    def forward(self, input):\n",
        "        x = self.norm(input)\n",
        "        return self.seq(x)\n",
        "\n",
        "HIDDEN_SIZE = 10\n",
        "model = Cifar100_MLP(hidden_size=HIDDEN_SIZE, classes=len(CLASSES))\n",
        "model"
      ]
    },
    {
      "cell_type": "markdown",
      "metadata": {
        "id": "1ppZsh9eV9H8"
      },
      "source": [
        "# Обучение моделей\n"
      ]
    },
    {
      "cell_type": "markdown",
      "metadata": {
        "id": "FmxEqwWLd-XD"
      },
      "source": [
        "Перед обучением моделей необходимо выбрать функцию потерь и оптимизатор. Различные функции потерь представлены также в модуле nn:\n",
        "* __nn.MSELoss__ - среднеквадратическая ошибка (y_true-y_pred)**2\n",
        "* __nn.BCEWithLogitsLoss__ - бинарная перекрёстная энтропия для задач бинарной классификации\n",
        "* __nn.CrossEntropyLoss__ - категориальная перекрёстная энтропия для задач многоклассовой классификации\n",
        "\n",
        "В качестве альтернативы можно собственноручно реализовать функцию потерь, например для MSELoss:\n",
        "\n",
        "    inputs, y = batch\n",
        "    ...\n",
        "    output = model(inputs)\n",
        "    loss = ((output - y)**2).sum()\n",
        "    ...\n",
        "\n",
        "Оптимизаторы содержатся в модуле __torch.optim__. Существует множество оптимизаторов целевой функции, классическим является стохастический градиентный спуск Stochastic Gradient Descent или SGD. В конструктор класса необходимо передать веса модели, а также указать шаг обучения или learning rate."
      ]
    },
    {
      "cell_type": "markdown",
      "metadata": {
        "id": "raKMPtc4ZgsZ"
      },
      "source": [
        "## Выбор функции потерь и оптимизатора градиентного спуска"
      ]
    },
    {
      "cell_type": "code",
      "execution_count": 7,
      "metadata": {
        "id": "-sRf5LGwHIZB"
      },
      "outputs": [],
      "source": [
        "# Функция потерь\n",
        "criterion = nn.CrossEntropyLoss()\n",
        "# Оптимизатор\n",
        "# lr - шаг обучения. Данный параметр можно изменять.\n",
        "optimizer = optim.SGD(model.parameters(), lr=0.005)"
      ]
    },
    {
      "cell_type": "markdown",
      "metadata": {
        "id": "hFtkRYFQZ0xb"
      },
      "source": [
        "## Обучение модели по эпохам"
      ]
    },
    {
      "cell_type": "markdown",
      "metadata": {
        "id": "WURh3R6dVuLQ"
      },
      "source": [
        "Для перевода модели в состояние обучения необходимо вызвать метод __train__. После чего модель готова для обучения.\n",
        "\n",
        "Для обучения нейросетевых моделей используется градиентный спуск и его разновидности, в основе которых лежит метод последовательных приближений.\n",
        "\n",
        "За одну эпоху условно выбирают прохождение итератора через весь набор данных, за одну итерацию - оптимизация параметров модели с помощью текущего мини-батча. PyTorch автоматически считает производные при вызове метода __backward__, применённому к функции потерь.\n",
        "\n",
        "При этом при повторном вызове, значения новых градиентов добавятся к предыдущим расчитанным. Поэтому, для избежания нежелательных эффектов принято очищать прошлые значения градиентов на каждой итерации при помощи метода __zero_grad__, применённого к экземпляру класса оптимизатора.\n",
        "\n"
      ]
    },
    {
      "cell_type": "markdown",
      "metadata": {
        "id": "NNlyAmTQxAel"
      },
      "source": [
        "Эпоха – обход всех экземпляров набора данных.  \n",
        "Итерация - один шаг обучения.  \n",
        "Переобучение (overfitting) – Модель, которая хорошо работает на обучающих данных и плохо на тестовых данных."
      ]
    },
    {
      "cell_type": "code",
      "execution_count": 8,
      "metadata": {
        "colab": {
          "base_uri": "https://localhost:8080/"
        },
        "id": "j3N4gdE9KKd1",
        "outputId": "0cdf54c3-b879-4f2e-96ed-3ac2a303cb73"
      },
      "outputs": [
        {
          "output_type": "stream",
          "name": "stdout",
          "text": [
            "[1,    12] loss: 1.029\n",
            "[1,     3] val loss: 1.008\n",
            "[2,    12] loss: 0.941\n",
            "[2,     3] val loss: 0.950\n",
            "[3,    12] loss: 0.897\n",
            "[3,     3] val loss: 0.964\n",
            "[4,    12] loss: 0.862\n",
            "[4,     3] val loss: 0.888\n",
            "[5,    12] loss: 0.835\n",
            "[5,     3] val loss: 0.893\n",
            "[6,    12] loss: 0.813\n",
            "[6,     3] val loss: 0.849\n",
            "[7,    12] loss: 0.796\n",
            "[7,     3] val loss: 0.862\n",
            "[8,    12] loss: 0.780\n",
            "[8,     3] val loss: 0.808\n",
            "[9,    12] loss: 0.765\n",
            "[9,     3] val loss: 0.801\n",
            "[10,    12] loss: 0.754\n",
            "[10,     3] val loss: 0.815\n",
            "[11,    12] loss: 0.743\n",
            "[11,     3] val loss: 0.820\n",
            "[12,    12] loss: 0.731\n",
            "[12,     3] val loss: 0.804\n",
            "[13,    12] loss: 0.720\n",
            "[13,     3] val loss: 0.786\n",
            "[14,    12] loss: 0.715\n",
            "[14,     3] val loss: 0.786\n",
            "[15,    12] loss: 0.705\n",
            "[15,     3] val loss: 0.789\n",
            "[16,    12] loss: 0.698\n",
            "[16,     3] val loss: 0.782\n",
            "[17,    12] loss: 0.693\n",
            "[17,     3] val loss: 0.777\n",
            "[18,    12] loss: 0.683\n",
            "[18,     3] val loss: 0.745\n",
            "[19,    12] loss: 0.677\n",
            "[19,     3] val loss: 0.742\n",
            "[20,    12] loss: 0.669\n",
            "[20,     3] val loss: 0.770\n",
            "[21,    12] loss: 0.666\n",
            "[21,     3] val loss: 0.783\n",
            "[22,    12] loss: 0.657\n",
            "[22,     3] val loss: 0.788\n",
            "[23,    12] loss: 0.653\n",
            "[23,     3] val loss: 0.770\n",
            "[24,    12] loss: 0.648\n",
            "[24,     3] val loss: 0.757\n",
            "[25,    12] loss: 0.645\n",
            "[25,     3] val loss: 0.790\n",
            "[26,    12] loss: 0.640\n",
            "[26,     3] val loss: 0.780\n",
            "[27,    12] loss: 0.632\n",
            "[27,     3] val loss: 0.729\n",
            "[28,    12] loss: 0.627\n",
            "[28,     3] val loss: 0.807\n",
            "[29,    12] loss: 0.624\n",
            "[29,     3] val loss: 0.750\n",
            "[30,    12] loss: 0.619\n",
            "[30,     3] val loss: 0.784\n",
            "[31,    12] loss: 0.615\n",
            "[31,     3] val loss: 0.715\n",
            "[32,    12] loss: 0.610\n",
            "[32,     3] val loss: 0.752\n",
            "[33,    12] loss: 0.605\n",
            "[33,     3] val loss: 0.781\n",
            "[34,    12] loss: 0.599\n",
            "[34,     3] val loss: 0.747\n",
            "[35,    12] loss: 0.595\n",
            "[35,     3] val loss: 0.771\n",
            "[36,    12] loss: 0.589\n",
            "[36,     3] val loss: 0.795\n",
            "[37,    12] loss: 0.587\n",
            "[37,     3] val loss: 0.762\n",
            "[38,    12] loss: 0.584\n",
            "[38,     3] val loss: 0.783\n",
            "[39,    12] loss: 0.578\n",
            "[39,     3] val loss: 0.755\n",
            "[40,    12] loss: 0.574\n",
            "[40,     3] val loss: 0.798\n",
            "[41,    12] loss: 0.570\n",
            "[41,     3] val loss: 0.749\n",
            "[42,    12] loss: 0.566\n",
            "[42,     3] val loss: 0.771\n",
            "[43,    12] loss: 0.564\n",
            "[43,     3] val loss: 0.752\n",
            "[44,    12] loss: 0.558\n",
            "[44,     3] val loss: 0.775\n",
            "[45,    12] loss: 0.554\n",
            "[45,     3] val loss: 0.753\n",
            "[46,    12] loss: 0.549\n",
            "[46,     3] val loss: 0.760\n",
            "[47,    12] loss: 0.548\n",
            "[47,     3] val loss: 0.753\n",
            "[48,    12] loss: 0.545\n",
            "[48,     3] val loss: 0.737\n",
            "[49,    12] loss: 0.538\n",
            "[49,     3] val loss: 0.824\n",
            "[50,    12] loss: 0.531\n",
            "[50,     3] val loss: 0.754\n",
            "[51,    12] loss: 0.526\n",
            "[51,     3] val loss: 0.756\n",
            "[52,    12] loss: 0.526\n",
            "[52,     3] val loss: 0.762\n",
            "[53,    12] loss: 0.525\n",
            "[53,     3] val loss: 0.778\n",
            "[54,    12] loss: 0.516\n",
            "[54,     3] val loss: 0.728\n",
            "[55,    12] loss: 0.514\n",
            "[55,     3] val loss: 0.764\n",
            "[56,    12] loss: 0.512\n",
            "[56,     3] val loss: 0.783\n",
            "[57,    12] loss: 0.508\n",
            "[57,     3] val loss: 0.747\n",
            "[58,    12] loss: 0.503\n",
            "[58,     3] val loss: 0.741\n",
            "[59,    12] loss: 0.496\n",
            "[59,     3] val loss: 0.819\n",
            "[60,    12] loss: 0.499\n",
            "[60,     3] val loss: 0.737\n",
            "[61,    12] loss: 0.491\n",
            "[61,     3] val loss: 0.762\n",
            "[62,    12] loss: 0.489\n",
            "[62,     3] val loss: 0.791\n",
            "[63,    12] loss: 0.484\n",
            "[63,     3] val loss: 0.749\n",
            "[64,    12] loss: 0.481\n",
            "[64,     3] val loss: 0.769\n",
            "[65,    12] loss: 0.479\n",
            "[65,     3] val loss: 0.776\n",
            "[66,    12] loss: 0.473\n",
            "[66,     3] val loss: 0.754\n",
            "[67,    12] loss: 0.472\n",
            "[67,     3] val loss: 0.802\n",
            "[68,    12] loss: 0.468\n",
            "[68,     3] val loss: 0.808\n",
            "[69,    12] loss: 0.464\n",
            "[69,     3] val loss: 0.772\n",
            "[70,    12] loss: 0.461\n",
            "[70,     3] val loss: 0.809\n",
            "[71,    12] loss: 0.457\n",
            "[71,     3] val loss: 0.782\n",
            "[72,    12] loss: 0.450\n",
            "[72,     3] val loss: 0.799\n",
            "[73,    12] loss: 0.448\n",
            "[73,     3] val loss: 0.762\n",
            "[74,    12] loss: 0.446\n",
            "[74,     3] val loss: 0.825\n",
            "[75,    12] loss: 0.443\n",
            "[75,     3] val loss: 0.768\n",
            "[76,    12] loss: 0.439\n",
            "[76,     3] val loss: 0.775\n",
            "[77,    12] loss: 0.434\n",
            "[77,     3] val loss: 0.750\n",
            "[78,    12] loss: 0.431\n",
            "[78,     3] val loss: 0.837\n",
            "[79,    12] loss: 0.428\n",
            "[79,     3] val loss: 0.770\n",
            "[80,    12] loss: 0.425\n",
            "[80,     3] val loss: 0.787\n",
            "[81,    12] loss: 0.421\n",
            "[81,     3] val loss: 0.791\n",
            "[82,    12] loss: 0.417\n",
            "[82,     3] val loss: 0.828\n",
            "[83,    12] loss: 0.415\n",
            "[83,     3] val loss: 0.807\n",
            "[84,    12] loss: 0.411\n",
            "[84,     3] val loss: 0.790\n",
            "[85,    12] loss: 0.409\n",
            "[85,     3] val loss: 0.860\n",
            "[86,    12] loss: 0.407\n",
            "[86,     3] val loss: 0.783\n",
            "[87,    12] loss: 0.402\n",
            "[87,     3] val loss: 0.821\n",
            "[88,    12] loss: 0.399\n",
            "[88,     3] val loss: 0.840\n",
            "[89,    12] loss: 0.395\n",
            "[89,     3] val loss: 0.810\n",
            "[90,    12] loss: 0.392\n",
            "[90,     3] val loss: 0.825\n",
            "[91,    12] loss: 0.386\n",
            "[91,     3] val loss: 0.834\n",
            "[92,    12] loss: 0.388\n",
            "[92,     3] val loss: 0.800\n",
            "[93,    12] loss: 0.384\n",
            "[93,     3] val loss: 0.763\n",
            "[94,    12] loss: 0.381\n",
            "[94,     3] val loss: 0.796\n",
            "[95,    12] loss: 0.379\n",
            "[95,     3] val loss: 0.824\n",
            "[96,    12] loss: 0.375\n",
            "[96,     3] val loss: 0.838\n",
            "[97,    12] loss: 0.374\n",
            "[97,     3] val loss: 0.822\n",
            "[98,    12] loss: 0.368\n",
            "[98,     3] val loss: 0.837\n",
            "[99,    12] loss: 0.366\n",
            "[99,     3] val loss: 0.877\n",
            "[100,    12] loss: 0.366\n",
            "[100,     3] val loss: 0.769\n",
            "[101,    12] loss: 0.359\n",
            "[101,     3] val loss: 0.778\n",
            "[102,    12] loss: 0.355\n",
            "[102,     3] val loss: 0.792\n",
            "[103,    12] loss: 0.354\n",
            "[103,     3] val loss: 0.909\n",
            "[104,    12] loss: 0.356\n",
            "[104,     3] val loss: 0.796\n",
            "[105,    12] loss: 0.347\n",
            "[105,     3] val loss: 0.807\n",
            "[106,    12] loss: 0.348\n",
            "[106,     3] val loss: 0.773\n",
            "[107,    12] loss: 0.344\n",
            "[107,     3] val loss: 0.820\n",
            "[108,    12] loss: 0.341\n",
            "[108,     3] val loss: 0.830\n",
            "[109,    12] loss: 0.339\n",
            "[109,     3] val loss: 0.867\n",
            "[110,    12] loss: 0.332\n",
            "[110,     3] val loss: 0.870\n",
            "[111,    12] loss: 0.336\n",
            "[111,     3] val loss: 0.800\n",
            "[112,    12] loss: 0.330\n",
            "[112,     3] val loss: 0.875\n",
            "[113,    12] loss: 0.326\n",
            "[113,     3] val loss: 0.849\n",
            "[114,    12] loss: 0.324\n",
            "[114,     3] val loss: 0.869\n",
            "[115,    12] loss: 0.322\n",
            "[115,     3] val loss: 0.867\n",
            "[116,    12] loss: 0.322\n",
            "[116,     3] val loss: 0.940\n",
            "[117,    12] loss: 0.316\n",
            "[117,     3] val loss: 0.822\n",
            "[118,    12] loss: 0.312\n",
            "[118,     3] val loss: 0.829\n",
            "[119,    12] loss: 0.310\n",
            "[119,     3] val loss: 0.882\n",
            "[120,    12] loss: 0.308\n",
            "[120,     3] val loss: 0.851\n",
            "[121,    12] loss: 0.305\n",
            "[121,     3] val loss: 0.853\n",
            "[122,    12] loss: 0.309\n",
            "[122,     3] val loss: 0.846\n",
            "[123,    12] loss: 0.302\n",
            "[123,     3] val loss: 0.883\n",
            "[124,    12] loss: 0.298\n",
            "[124,     3] val loss: 0.854\n",
            "[125,    12] loss: 0.298\n",
            "[125,     3] val loss: 0.834\n",
            "[126,    12] loss: 0.294\n",
            "[126,     3] val loss: 0.888\n",
            "[127,    12] loss: 0.291\n",
            "[127,     3] val loss: 0.890\n",
            "[128,    12] loss: 0.290\n",
            "[128,     3] val loss: 0.860\n",
            "[129,    12] loss: 0.290\n",
            "[129,     3] val loss: 0.879\n",
            "[130,    12] loss: 0.288\n",
            "[130,     3] val loss: 0.830\n",
            "[131,    12] loss: 0.282\n",
            "[131,     3] val loss: 0.932\n",
            "[132,    12] loss: 0.280\n",
            "[132,     3] val loss: 0.870\n",
            "[133,    12] loss: 0.278\n",
            "[133,     3] val loss: 0.952\n",
            "[134,    12] loss: 0.274\n",
            "[134,     3] val loss: 0.807\n",
            "[135,    12] loss: 0.275\n",
            "[135,     3] val loss: 0.944\n",
            "[136,    12] loss: 0.268\n",
            "[136,     3] val loss: 0.926\n",
            "[137,    12] loss: 0.270\n",
            "[137,     3] val loss: 0.843\n",
            "[138,    12] loss: 0.265\n",
            "[138,     3] val loss: 0.898\n",
            "[139,    12] loss: 0.269\n",
            "[139,     3] val loss: 0.911\n",
            "[140,    12] loss: 0.264\n",
            "[140,     3] val loss: 0.937\n",
            "[141,    12] loss: 0.262\n",
            "[141,     3] val loss: 0.908\n",
            "[142,    12] loss: 0.258\n",
            "[142,     3] val loss: 0.902\n",
            "[143,    12] loss: 0.258\n",
            "[143,     3] val loss: 0.822\n",
            "[144,    12] loss: 0.255\n",
            "[144,     3] val loss: 0.918\n",
            "[145,    12] loss: 0.251\n",
            "[145,     3] val loss: 0.964\n",
            "[146,    12] loss: 0.253\n",
            "[146,     3] val loss: 0.894\n",
            "[147,    12] loss: 0.250\n",
            "[147,     3] val loss: 0.978\n",
            "[148,    12] loss: 0.246\n",
            "[148,     3] val loss: 0.959\n",
            "[149,    12] loss: 0.245\n",
            "[149,     3] val loss: 1.002\n",
            "[150,    12] loss: 0.241\n",
            "[150,     3] val loss: 0.924\n",
            "[151,    12] loss: 0.240\n",
            "[151,     3] val loss: 0.900\n",
            "[152,    12] loss: 0.240\n",
            "[152,     3] val loss: 0.854\n",
            "[153,    12] loss: 0.235\n",
            "[153,     3] val loss: 1.005\n",
            "[154,    12] loss: 0.234\n",
            "[154,     3] val loss: 0.967\n",
            "[155,    12] loss: 0.232\n",
            "[155,     3] val loss: 0.930\n",
            "[156,    12] loss: 0.231\n",
            "[156,     3] val loss: 1.011\n",
            "[157,    12] loss: 0.227\n",
            "[157,     3] val loss: 1.002\n",
            "[158,    12] loss: 0.228\n",
            "[158,     3] val loss: 1.012\n",
            "[159,    12] loss: 0.226\n",
            "[159,     3] val loss: 1.004\n",
            "[160,    12] loss: 0.226\n",
            "[160,     3] val loss: 1.017\n",
            "[161,    12] loss: 0.222\n",
            "[161,     3] val loss: 0.979\n",
            "[162,    12] loss: 0.222\n",
            "[162,     3] val loss: 1.047\n",
            "[163,    12] loss: 0.220\n",
            "[163,     3] val loss: 1.011\n",
            "[164,    12] loss: 0.220\n",
            "[164,     3] val loss: 0.960\n",
            "[165,    12] loss: 0.215\n",
            "[165,     3] val loss: 1.013\n",
            "[166,    12] loss: 0.216\n",
            "[166,     3] val loss: 0.979\n",
            "[167,    12] loss: 0.213\n",
            "[167,     3] val loss: 1.018\n",
            "[168,    12] loss: 0.212\n",
            "[168,     3] val loss: 1.059\n",
            "[169,    12] loss: 0.208\n",
            "[169,     3] val loss: 0.980\n",
            "[170,    12] loss: 0.209\n",
            "[170,     3] val loss: 1.030\n",
            "[171,    12] loss: 0.206\n",
            "[171,     3] val loss: 0.946\n",
            "[172,    12] loss: 0.204\n",
            "[172,     3] val loss: 0.973\n",
            "[173,    12] loss: 0.205\n",
            "[173,     3] val loss: 0.982\n",
            "[174,    12] loss: 0.202\n",
            "[174,     3] val loss: 0.914\n",
            "[175,    12] loss: 0.199\n",
            "[175,     3] val loss: 0.971\n",
            "[176,    12] loss: 0.197\n",
            "[176,     3] val loss: 0.977\n",
            "[177,    12] loss: 0.199\n",
            "[177,     3] val loss: 1.002\n",
            "[178,    12] loss: 0.197\n",
            "[178,     3] val loss: 1.004\n",
            "[179,    12] loss: 0.193\n",
            "[179,     3] val loss: 0.950\n",
            "[180,    12] loss: 0.192\n",
            "[180,     3] val loss: 0.960\n",
            "[181,    12] loss: 0.189\n",
            "[181,     3] val loss: 0.966\n",
            "[182,    12] loss: 0.188\n",
            "[182,     3] val loss: 0.945\n",
            "[183,    12] loss: 0.189\n",
            "[183,     3] val loss: 0.993\n",
            "[184,    12] loss: 0.185\n",
            "[184,     3] val loss: 1.031\n",
            "[185,    12] loss: 0.186\n",
            "[185,     3] val loss: 1.033\n",
            "[186,    12] loss: 0.183\n",
            "[186,     3] val loss: 1.114\n",
            "[187,    12] loss: 0.182\n",
            "[187,     3] val loss: 1.040\n",
            "[188,    12] loss: 0.181\n",
            "[188,     3] val loss: 1.003\n",
            "[189,    12] loss: 0.179\n",
            "[189,     3] val loss: 1.041\n",
            "[190,    12] loss: 0.178\n",
            "[190,     3] val loss: 1.020\n",
            "[191,    12] loss: 0.177\n",
            "[191,     3] val loss: 1.066\n",
            "[192,    12] loss: 0.173\n",
            "[192,     3] val loss: 1.077\n",
            "[193,    12] loss: 0.175\n",
            "[193,     3] val loss: 0.981\n",
            "[194,    12] loss: 0.172\n",
            "[194,     3] val loss: 0.943\n",
            "[195,    12] loss: 0.172\n",
            "[195,     3] val loss: 1.079\n",
            "[196,    12] loss: 0.171\n",
            "[196,     3] val loss: 1.077\n",
            "[197,    12] loss: 0.169\n",
            "[197,     3] val loss: 1.021\n",
            "[198,    12] loss: 0.166\n",
            "[198,     3] val loss: 1.050\n",
            "[199,    12] loss: 0.164\n",
            "[199,     3] val loss: 1.181\n",
            "[200,    12] loss: 0.166\n",
            "[200,     3] val loss: 1.015\n",
            "[201,    12] loss: 0.162\n",
            "[201,     3] val loss: 1.014\n",
            "[202,    12] loss: 0.162\n",
            "[202,     3] val loss: 0.988\n",
            "[203,    12] loss: 0.160\n",
            "[203,     3] val loss: 1.043\n",
            "[204,    12] loss: 0.161\n",
            "[204,     3] val loss: 1.085\n",
            "[205,    12] loss: 0.159\n",
            "[205,     3] val loss: 1.096\n",
            "[206,    12] loss: 0.158\n",
            "[206,     3] val loss: 1.014\n",
            "[207,    12] loss: 0.157\n",
            "[207,     3] val loss: 1.033\n",
            "[208,    12] loss: 0.153\n",
            "[208,     3] val loss: 1.033\n",
            "[209,    12] loss: 0.153\n",
            "[209,     3] val loss: 1.082\n",
            "[210,    12] loss: 0.152\n",
            "[210,     3] val loss: 1.024\n",
            "[211,    12] loss: 0.150\n",
            "[211,     3] val loss: 1.034\n",
            "[212,    12] loss: 0.149\n",
            "[212,     3] val loss: 1.123\n",
            "[213,    12] loss: 0.150\n",
            "[213,     3] val loss: 1.210\n",
            "[214,    12] loss: 0.146\n",
            "[214,     3] val loss: 1.087\n",
            "[215,    12] loss: 0.146\n",
            "[215,     3] val loss: 1.243\n",
            "[216,    12] loss: 0.146\n",
            "[216,     3] val loss: 1.053\n",
            "[217,    12] loss: 0.144\n",
            "[217,     3] val loss: 1.147\n",
            "[218,    12] loss: 0.144\n",
            "[218,     3] val loss: 1.027\n",
            "[219,    12] loss: 0.142\n",
            "[219,     3] val loss: 1.099\n",
            "[220,    12] loss: 0.140\n",
            "[220,     3] val loss: 1.065\n",
            "[221,    12] loss: 0.141\n",
            "[221,     3] val loss: 1.159\n",
            "[222,    12] loss: 0.140\n",
            "[222,     3] val loss: 1.248\n",
            "[223,    12] loss: 0.137\n",
            "[223,     3] val loss: 1.181\n",
            "[224,    12] loss: 0.137\n",
            "[224,     3] val loss: 1.039\n",
            "[225,    12] loss: 0.137\n",
            "[225,     3] val loss: 1.087\n",
            "[226,    12] loss: 0.136\n",
            "[226,     3] val loss: 1.130\n",
            "[227,    12] loss: 0.136\n",
            "[227,     3] val loss: 1.040\n",
            "[228,    12] loss: 0.134\n",
            "[228,     3] val loss: 1.138\n",
            "[229,    12] loss: 0.133\n",
            "[229,     3] val loss: 1.156\n",
            "[230,    12] loss: 0.133\n",
            "[230,     3] val loss: 1.051\n",
            "[231,    12] loss: 0.131\n",
            "[231,     3] val loss: 1.084\n",
            "[232,    12] loss: 0.130\n",
            "[232,     3] val loss: 1.177\n",
            "[233,    12] loss: 0.130\n",
            "[233,     3] val loss: 1.104\n",
            "[234,    12] loss: 0.128\n",
            "[234,     3] val loss: 1.179\n",
            "[235,    12] loss: 0.127\n",
            "[235,     3] val loss: 1.008\n",
            "[236,    12] loss: 0.126\n",
            "[236,     3] val loss: 1.059\n",
            "[237,    12] loss: 0.126\n",
            "[237,     3] val loss: 1.120\n",
            "[238,    12] loss: 0.124\n",
            "[238,     3] val loss: 1.127\n",
            "[239,    12] loss: 0.124\n",
            "[239,     3] val loss: 1.327\n",
            "[240,    12] loss: 0.123\n",
            "[240,     3] val loss: 1.210\n",
            "[241,    12] loss: 0.122\n",
            "[241,     3] val loss: 1.149\n",
            "[242,    12] loss: 0.121\n",
            "[242,     3] val loss: 1.166\n",
            "[243,    12] loss: 0.122\n",
            "[243,     3] val loss: 1.134\n",
            "[244,    12] loss: 0.120\n",
            "[244,     3] val loss: 1.123\n",
            "[245,    12] loss: 0.118\n",
            "[245,     3] val loss: 1.202\n",
            "[246,    12] loss: 0.118\n",
            "[246,     3] val loss: 1.122\n",
            "[247,    12] loss: 0.116\n",
            "[247,     3] val loss: 1.192\n",
            "[248,    12] loss: 0.116\n",
            "[248,     3] val loss: 1.144\n",
            "[249,    12] loss: 0.116\n",
            "[249,     3] val loss: 1.139\n",
            "[250,    12] loss: 0.116\n",
            "[250,     3] val loss: 1.168\n",
            "Обучение закончено\n"
          ]
        }
      ],
      "source": [
        "# Укажем количество эпох.\n",
        "# Увеличение количества эпох приводит к увеличению времени работы программы.\n",
        "# Чем больше эпох мы обучаем, тем точнее обучается модель, но есть риск наступления переобучения.\n",
        "\n",
        "EPOCHS = 250\n",
        "steps_per_epoch = len(dataloader['train'])\n",
        "steps_per_epoch_val = len(dataloader['test'])\n",
        "for epoch in range(EPOCHS):  # проход по набору данных несколько раз\n",
        "    running_loss = 0.0\n",
        "    model.train()\n",
        "    for i, batch in enumerate(dataloader['train'], 0):\n",
        "        # получение одного минибатча; batch это двуэлементный список из [inputs, labels]\n",
        "        inputs, labels = batch\n",
        "\n",
        "        # очищение прошлых градиентов с прошлой итерации\n",
        "        optimizer.zero_grad()\n",
        "\n",
        "        # прямой + обратный проходы + оптимизация\n",
        "        outputs = model(inputs)\n",
        "        loss = criterion(outputs, labels)\n",
        "        #loss = F.cross_entropy(outputs, labels)\n",
        "        loss.backward()\n",
        "\n",
        "        #Для обновления параметров нейронной сети используется метод step, применённый к экземпляру класса оптимизатора.\n",
        "        optimizer.step()\n",
        "\n",
        "        # для подсчёта статистик\n",
        "        running_loss += loss.item()\n",
        "    print(f'[{epoch + 1}, {i + 1:5d}] loss: {running_loss / steps_per_epoch:.3f}')\n",
        "    running_loss = 0.0\n",
        "\n",
        "    #Для перевода модели в состояние проверки необходимо вызвать метод eval. После чего модель готова для проверки.\n",
        "    model.eval()\n",
        "\n",
        "    with torch.no_grad(): # отключение автоматического дифференцирования\n",
        "        for i, data in enumerate(dataloader['test'], 0):\n",
        "            inputs, labels = data\n",
        "\n",
        "            outputs = model(inputs)\n",
        "            loss = criterion(outputs, labels)\n",
        "            running_loss += loss.item()\n",
        "    print(f'[{epoch + 1}, {i + 1:5d}] val loss: {running_loss / steps_per_epoch_val:.3f}')\n",
        "print('Обучение закончено')"
      ]
    },
    {
      "cell_type": "markdown",
      "metadata": {
        "id": "pM3jjyu2Z6cf"
      },
      "source": [
        "## Проверка качества модели по классам на обучающей и тестовой выборках"
      ]
    },
    {
      "cell_type": "markdown",
      "metadata": {
        "id": "LFehrDM2ye0Z"
      },
      "source": [
        "Выходной тензор предсказаний модели необходимо отсечь от вычислительного графа. Для этого используется метод **detach**, применённый к выходному тензору модели. В противном случае возможны утечки памяти. Метод **numpy** конвертирует тензор в многомерный массив NumPy.\n",
        "\n",
        "По умолчанию модель выводит так называемые логиты классов, а не их вероятности. Для получения вероятностей необходимо применить функцию активации **Softmax**. Однако на практике это необязательно, поскольку величина логитов согласуется с вероятностью классов, и для получения номера наиболее вероятного класса этот этап можно опустить. Номер класса получается при помощи либо метода **argmax**, либо метода **argsort**, причём последний позволяет считать такие метрики, как Accuracy@5 и метрики качества.\n",
        "\n",
        "**Метрики качества:**\n",
        "– Точность (Precision) – Процент положительных меток, которые правильно определены  \n",
        "  *Precision = (# true positives) / (# true positives + # false positives)*  \n",
        "– Полнота (Recall) – Процент положительных примеров, которые были правильно определены  \n",
        "  *Recall = (# true positives) / (# true positives + # false negatives)*  \n",
        "– Accuracy – Процент положительных меток  \n",
        "  *Accuracy = (# true positives + # true negatives) / (# of samples)*"
      ]
    },
    {
      "cell_type": "code",
      "execution_count": 9,
      "metadata": {
        "colab": {
          "base_uri": "https://localhost:8080/"
        },
        "id": "5RlNWKIRM8Hj",
        "outputId": "232aeb0c-6836-48e7-c791-c4b692de3429"
      },
      "outputs": [
        {
          "output_type": "stream",
          "name": "stdout",
          "text": [
            "train\n",
            "              precision    recall  f1-score   support\n",
            "\n",
            "           3     0.9841    0.9880    0.9860       500\n",
            "          15     0.9764    0.9940    0.9851       500\n",
            "          45     0.9980    0.9760    0.9869       500\n",
            "\n",
            "    accuracy                         0.9860      1500\n",
            "   macro avg     0.9861    0.9860    0.9860      1500\n",
            "weighted avg     0.9861    0.9860    0.9860      1500\n",
            "\n",
            "--------------------------------------------------\n",
            "test\n",
            "              precision    recall  f1-score   support\n",
            "\n",
            "           3     0.6905    0.5800    0.6304       100\n",
            "          15     0.6154    0.7200    0.6636       100\n",
            "          45     0.6465    0.6400    0.6432       100\n",
            "\n",
            "    accuracy                         0.6467       300\n",
            "   macro avg     0.6508    0.6467    0.6457       300\n",
            "weighted avg     0.6508    0.6467    0.6457       300\n",
            "\n",
            "--------------------------------------------------\n"
          ]
        }
      ],
      "source": [
        "for part in ['train', 'test']:\n",
        "    y_pred = []\n",
        "    y_true = []\n",
        "    with torch.no_grad(): # отключение автоматического дифференцирования\n",
        "        for i, data in enumerate(dataloader[part], 0):\n",
        "            inputs, labels = data\n",
        "\n",
        "            outputs = model(inputs).detach().numpy()\n",
        "            y_pred.append(outputs)\n",
        "            y_true.append(labels.numpy())\n",
        "        y_true = np.concatenate(y_true)\n",
        "        y_pred = np.concatenate(y_pred)\n",
        "\n",
        "        # Выведем отчет о точности обучения модели.\n",
        "        # На тестовых данных модель может обучиться до 100%. Результ, который показывается на тренировочной выборке, хуже.\n",
        "\n",
        "        # Выведем метрики ранжирования для тестовой и обучающей выборки.\n",
        "        print(part)\n",
        "\n",
        "        # Значения выводятся с точность 4 знака после запятой.\n",
        "\n",
        "        print(classification_report(y_true.argmax(axis=-1), y_pred.argmax(axis=-1),\n",
        "                                    digits=4, target_names=list(map(str, CLASSES))))\n",
        "        print('-'*50)"
      ]
    },
    {
      "cell_type": "markdown",
      "metadata": {
        "id": "ak37wKaulYw2"
      },
      "source": [
        "# Сохранение модели в ONNX"
      ]
    },
    {
      "cell_type": "markdown",
      "metadata": {
        "id": "JwfOByyjlsKt"
      },
      "source": [
        "Рассмотрим два способа сохранения модели:\n",
        "\n",
        "\n",
        "1.   Сохранение параметров\n",
        "2.   Сохранение всей архитектуры\n",
        "\n"
      ]
    },
    {
      "cell_type": "code",
      "execution_count": 10,
      "metadata": {
        "colab": {
          "base_uri": "https://localhost:8080/"
        },
        "id": "z8TfMRWGl6h6",
        "outputId": "ca57b636-f811-4aeb-8ebb-a796462a0696"
      },
      "outputs": [
        {
          "output_type": "stream",
          "name": "stderr",
          "text": [
            "<ipython-input-10-853a8b758d3a>:6: FutureWarning: You are using `torch.load` with `weights_only=False` (the current default value), which uses the default pickle module implicitly. It is possible to construct malicious pickle data which will execute arbitrary code during unpickling (See https://github.com/pytorch/pytorch/blob/main/SECURITY.md#untrusted-models for more details). In a future release, the default value for `weights_only` will be flipped to `True`. This limits the functions that could be executed during unpickling. Arbitrary objects will no longer be allowed to be loaded via this mode unless they are explicitly allowlisted by the user via `torch.serialization.add_safe_globals`. We recommend you start setting `weights_only=True` for any use case where you don't have full control of the loaded file. Please open an issue on GitHub for any issues related to this experimental feature.\n",
            "  new_model.load_state_dict(torch.load(PATH))\n"
          ]
        },
        {
          "output_type": "execute_result",
          "data": {
            "text/plain": [
              "Cifar100_MLP(\n",
              "  (norm): Normalize()\n",
              "  (seq): Sequential(\n",
              "    (0): Linear(in_features=3072, out_features=10, bias=True)\n",
              "    (1): ReLU()\n",
              "    (2): Linear(in_features=10, out_features=3, bias=True)\n",
              "  )\n",
              ")"
            ]
          },
          "metadata": {},
          "execution_count": 10
        }
      ],
      "source": [
        "# ПЕРВЫЙ СПОСОБ: сохранение параметров\n",
        "PATH = 'cifar_lnn.pth'\n",
        "torch.save(model.state_dict(), PATH)\n",
        "# загрузка\n",
        "new_model = Cifar100_MLP(hidden_size=HIDDEN_SIZE, classes=len(CLASSES))\n",
        "new_model.load_state_dict(torch.load(PATH))\n",
        "new_model.eval()"
      ]
    },
    {
      "cell_type": "code",
      "execution_count": 11,
      "metadata": {
        "colab": {
          "base_uri": "https://localhost:8080/"
        },
        "id": "Lem_W3pAlkJj",
        "outputId": "f60437aa-4351-40a1-b84c-043a4a864ccf"
      },
      "outputs": [
        {
          "output_type": "stream",
          "name": "stderr",
          "text": [
            "<ipython-input-11-d3eb3575ba26>:5: FutureWarning: You are using `torch.load` with `weights_only=False` (the current default value), which uses the default pickle module implicitly. It is possible to construct malicious pickle data which will execute arbitrary code during unpickling (See https://github.com/pytorch/pytorch/blob/main/SECURITY.md#untrusted-models for more details). In a future release, the default value for `weights_only` will be flipped to `True`. This limits the functions that could be executed during unpickling. Arbitrary objects will no longer be allowed to be loaded via this mode unless they are explicitly allowlisted by the user via `torch.serialization.add_safe_globals`. We recommend you start setting `weights_only=True` for any use case where you don't have full control of the loaded file. Please open an issue on GitHub for any issues related to this experimental feature.\n",
            "  new_model_2 = torch.load(PATH2)\n"
          ]
        },
        {
          "output_type": "execute_result",
          "data": {
            "text/plain": [
              "Cifar100_MLP(\n",
              "  (norm): Normalize()\n",
              "  (seq): Sequential(\n",
              "    (0): Linear(in_features=3072, out_features=10, bias=True)\n",
              "    (1): ReLU()\n",
              "    (2): Linear(in_features=10, out_features=3, bias=True)\n",
              "  )\n",
              ")"
            ]
          },
          "metadata": {},
          "execution_count": 11
        }
      ],
      "source": [
        "# ВТОРОЙ СПОСОБ: сохранение всей архитектуры\n",
        "PATH2 = 'cifar_lnn.pt'\n",
        "torch.save(model, PATH2)\n",
        "# загрузка\n",
        "new_model_2 = torch.load(PATH2)\n",
        "new_model_2.eval()"
      ]
    },
    {
      "cell_type": "code",
      "execution_count": 12,
      "metadata": {
        "id": "Oy_XnDmAjNY4",
        "outputId": "c1533d7d-917e-4d2d-d301-5ab6a09ea102",
        "colab": {
          "base_uri": "https://localhost:8080/"
        }
      },
      "outputs": [
        {
          "output_type": "stream",
          "name": "stdout",
          "text": [
            "Collecting onnx\n",
            "  Downloading onnx-1.17.0-cp310-cp310-manylinux_2_17_x86_64.manylinux2014_x86_64.whl.metadata (16 kB)\n",
            "Requirement already satisfied: numpy>=1.20 in /usr/local/lib/python3.10/dist-packages (from onnx) (1.26.4)\n",
            "Requirement already satisfied: protobuf>=3.20.2 in /usr/local/lib/python3.10/dist-packages (from onnx) (4.25.5)\n",
            "Downloading onnx-1.17.0-cp310-cp310-manylinux_2_17_x86_64.manylinux2014_x86_64.whl (16.0 MB)\n",
            "\u001b[2K   \u001b[90m━━━━━━━━━━━━━━━━━━━━━━━━━━━━━━━━━━━━━━━━\u001b[0m \u001b[32m16.0/16.0 MB\u001b[0m \u001b[31m54.3 MB/s\u001b[0m eta \u001b[36m0:00:00\u001b[0m\n",
            "\u001b[?25hInstalling collected packages: onnx\n",
            "Successfully installed onnx-1.17.0\n"
          ]
        }
      ],
      "source": [
        "!pip install onnx"
      ]
    },
    {
      "cell_type": "code",
      "execution_count": 13,
      "metadata": {
        "id": "OpdKu8WpmCFw"
      },
      "outputs": [],
      "source": [
        "# входной тензор для модели\n",
        "x = torch.randn(1, 32, 32, 3, requires_grad=True).to('cpu')\n",
        "torch_out = model(x)\n",
        "\n",
        "# экспорт модели\n",
        "torch.onnx.export(model,               # модель\n",
        "                  x,                   # входной тензор (или кортеж нескольких тензоров)\n",
        "                  \"cifar100_LNN.onnx\", # куда сохранить (либо путь к файлу либо fileObject)\n",
        "                  export_params=True,  # сохраняет веса обученных параметров внутри файла модели\n",
        "                  opset_version=9,     # версия ONNX\n",
        "                  do_constant_folding=True,  # следует ли выполнять укорачивание констант для оптимизации\n",
        "                  input_names = ['input'],   # имя входного слоя\n",
        "                  output_names = ['output'],  # имя выходного слоя\n",
        "                  dynamic_axes={'input' : {0 : 'batch_size'},    # динамичные оси, в данном случае только размер пакета\n",
        "                                'output' : {0 : 'batch_size'}})"
      ]
    },
    {
      "cell_type": "markdown",
      "metadata": {
        "id": "1rssHENemIWX"
      },
      "source": [
        "Модель сохраняется в файлах с расширением .onnx. Этот файл можно скачать к себе на компьютер и использовать для дальнейшей загрузки и использования обученнной модели."
      ]
    },
    {
      "cell_type": "markdown",
      "metadata": {
        "id": "HFzEnQacoQwb"
      },
      "source": [
        "# Описание методов библиотек"
      ]
    },
    {
      "cell_type": "markdown",
      "metadata": {
        "id": "FDgKl3yGd-W_"
      },
      "source": [
        "### Методы и функции PyTorch\n",
        "\n",
        "(Документация: https://pytorch.org/docs/stable/index.html)"
      ]
    },
    {
      "cell_type": "markdown",
      "metadata": {
        "id": "InTxtzCnS2zq"
      },
      "source": [
        "Методы:\n",
        "\n",
        "* __torch.Tensor__ - cоздает тензор из многомерного массива Numpy и наследует его тип данных. По умолчанию память под тензоры выделяется на CPU. При выставлении флага requires_grad автоматически отслеживает градиенты с помощью движка autograd, который строит динамический вычислительный граф. Включить отслеживания тензора t можно так же при помощи метода t.requires_grad_(True). В таком случае после вызова метода backward, в поле grad будут записаны производные. Производные тензора t можно очистить вызовом метода t.grad.zero_(). Для того чтобы отсечь ненужные вычисления производных используется метод detach, который создаёт копию тензора, при этом флаг requires_grad снимается и отслеживание движком autograd прекращается.\n",
        "\n",
        "* __torch.numpy__ - создает многомерный NumPy массив данных из тензора\n",
        "\n",
        "* __torch.item__ - возвращает число, но только если ранг тензора 0. В противном случае выдаёт ошибку и следует использовать torch.numpy\n",
        "\n",
        "* __torch.uint8__, __torch.int16__, __torch.int64__, __torch.float32__ - приведение массива к новому типу, аналогично NumPy. Для приведения используется метод .to (например t.to(torch.int64)). По умолчанию все вычисления на графе производятся в float64, есть также возможность использования mixed precision (что-то во float16, что-то во float64), но это считается продвинутой техникой.\n",
        "\n",
        "* __torch.ones__, __torch.zeros__, __torch.transpose__, __torch.reshape__ - API похожий, как у NumPy\n",
        "\n",
        "* __torch.rand__ - создание случайного тензора с числами в диапазоне от 0 до 1. Размерность перечисляется через запятую\n",
        "\n",
        "* __torch.t__ - транспонирование тензора, похоже на рассмотренный ранее numpy.transpose. Если дан тензор X, то можно его транспонировать при помощи X.t()\n",
        "\n",
        "* __torch.sum__ - суммирование элементов тензора вдоль указанной оси axis. Если суммирование производится вдоль последней оси, то разрешается указать вместо номера -1. Для сохранения исходной размерности тензора, необходимо выставить флаг keepdims.\n",
        "\n",
        "* __torch.maximum__ - производит поэлементное сравнение тензоров и возвращает максимальный из элементов. На практике используется для реализации некоторых функций активации нейронной сети\n",
        "\n",
        "* __torch.mm__ - произведение тензоров. Для 2 двухмерных матриц с размерностями (M, N) и (N, K) результатом данного метода будет двухмерная матрица размерностью (M, K)\n",
        "\n",
        "* __torch.exp__ - повторяет функционал numpy.exp - поэлементное возведение тензора в степень экспоненты\n",
        "\n",
        "* __torch.log__ - поэлементная операция логарифмирования тензора - взятие натурального логарифма, обратная операция потенциирования\n",
        "\n",
        "* __torch.flatten__ - аналогично NumPy .reshape(-1), если указан параметр start_dim, то начинает \"выпрямление\" массива начиная с указанного номера. Т.е. для того, чтобы перевести тензор t с формой (100, 32, 32, 3) в форму (100, 3072) достаточно написать torch.flatten(t, start_dim=1)\n",
        "\n",
        "* __F.one_hot__ - один из многих способов получить горячую кодировку класса в виде PyTorch тензора. Например, для 5 классов, горячая кодировка класса \"4\" будет [0, 0, 0, 1, 0]\n",
        "\n",
        "* __torch.utils.data.TensorDataset__ - создание связанных тензоров, например обучающих примеров и соответствующих меток. В качестве аргумента передаются тензоры. Приемлемый способ создания набора данных, когда обучающая выборка некрупная и полностью помещается в оперативной памяти.\n",
        "\n",
        "* __torch.utils.data.DataLoader__ - В основе утилиты загрузки данных PyTorch лежит класс DataLoader. Он представляет собой Python объект, повторяющийся по набору данных, с поддержкой набора данных в стиле map и итератора; настройки порядка загрузки данных; автоматического разбиения на минибатчи;загрузки данных в один и несколько процессов/потоков. Самые полезные аргументы в конструкторе - размер мини-батча batch_size и число параллельных процессов num_workers. Чтобы перемешать данные (для лучшей сходимости), следует выставить флаг shuffle в True\n",
        "\n",
        "* __torch.save__ - сохранение параметров модели на постоянный носитель информации. Для этого первым аргументом передаётся model.state_dict(), где model - обученная нейросетевая модель, а вторым аргументов передаётся путь с именем файла."
      ]
    },
    {
      "cell_type": "markdown",
      "metadata": {
        "id": "Mv5qVoyxfoPZ"
      },
      "source": [
        "### Методы и функции NumPy:\n",
        "\n",
        "(Подробнее в документации https://numpy.org/doc/1.22/reference/index.html)"
      ]
    },
    {
      "cell_type": "markdown",
      "metadata": {
        "id": "9aWaJ2_EfoPZ"
      },
      "source": [
        "* __np.array__ - создание массива из списка или другого массива\n",
        "* __np.shape__ - выводит размерность многомерного массива (т.е. для массива 2х2 будет выведен кортеж (2, 2))\n",
        "* __np.size__ - выводит число элементов в массиве (т.е. для массива 2х2 будет выведено число 4)\n",
        "* __np.uint8__, __np.int16__, __np.int64__, __np.float32__ - приведение массива к новому типу, при этом в памяти выделяется место под новый массив выбранного типа. Число после типа обозначет, сколько бит данных используется для хранения одного элемента массива. Для хранения картинок зачастую используется экономный uint8 - беззнаковый 8-битный целочисленный тип данных (диапазон чисел 0-255)\n",
        "* __np.ones__, __np.zeros__  - создание уже заполненных массивов либо единицами, либо нулями. В качестве аргумента передается список или кортеж с требуемой размерностью. Например `np.ones((10,))` создаст вектор из 10 единичек. А `np.zeros((32, 32, 3))` создаст двузмерный массив разрешением 32 на 32 пикселя с 3 каналами. На практике используется для проверки архитектуры модели в прямом направлении\n",
        "* __np.arange__ - создание уже заполненного массива в виде возрастающей арифметической прогресии от первого аргумента до второго аргумента не включительно с шагом, который задаётеся третьим аргументом. Первый и третий аргументы можно опускать, в таком случае получается компактная запись `np.arange(3)` => [0, 1, 2]\n",
        "* __np.repeat__ - дублирование элементов массива на количество, указанное первым аргументом. Таким образом, для массива `arr = [0, 1]` `arr.repeat(2)` вернёт [0, 0, 1, 1]\n",
        "* __np.exp__ - применение поэлементной операции потенциирования к массиву\n",
        "* __np.random.normal__ - генерация массива, заполненного случайными нормальными величинами со стандартным отклонением, задающимся через аргумент scale и со средним значением, равным аргументу mean. Число элементов в массиве задаётся числом или списком, переданным аргументу size.\n",
        "* __np.random.randint__ - генерация массива, заполненного случайными целыми числами в диапазоне, задающимся аналогично __np.arange__. Число элементов в массиве задаётся числом или списком, переданным аргументу size.\n",
        "* __np.reshape__  - буквально изменение размерности многомерного массива с учётом числа элементов. В качестве аргумента передается многомерный массив, а также список или кортеж с новой размерностью. Например `np.reshape([0, 1, 2, 3], (2,2))` создаст двухмерный массив размером 2х2. При этом в памяти новый массив не выделяется, а меняется лишь способ обхода по нему. Разрешается также и следующий способ вызова метода: `arr.reshape(2, 2)`. Обратите внимание на отсутствие дополнительных скобок. Если вместо конкретного числа подставить -1, то размерность будет подсчитана автоматически. На практике используется для выпрямление картинок в виде одномерного массива: `X.reshape(-1, 3072)`# [100, 32, 32, 3] -> [100, 3072]\n",
        "* __np.transpose__  - переименование осей многомерного массива. Для работы с изображениями принято два формата NHWC и NCHW (N - число картинок в массиве, C - число каналов, H - высота, W - ширина). В качестве аргумента передается многомерный массив, а также список или кортеж с новой расстановкой осей. Например `np.transpose([[0, 1, 2, 3]], (1,0))` создаст двухмерный вектор-столбец [[[0], [1], [2], [3]]. Заметьте, что отсчет осей начинается с 0. На практике используется для перевода NHWC в NCHW и обратно. В первом случае 0 ось N остаётся на своём первом месте, первая и вторая оси H и W сдвигаются на одну позицию вправо, а 3 ось - C ставится на второе место. Т.е. получим следующую перестановку: [0, 3, 1, 2]\n",
        "* __np.isin__ - аналог SQL оператора IN, поэлементная проверка вхождения массива в коллекцию. `np.isin([0, 2, 1], [2, 3])` вернёт [False, True, False]\n",
        "* __индексирование__ - выбор подмассива или среза массива осуществляется с помощью квадратных скобок []. Если `arr = np.array([2, 1, 0])`, то `arr[0]` вернёт первый элемент. `arr[[0, 1]]` - обращение по индексу, `arr[[True, False, True]]` - обращение по булевой маске. Заметьте, что обращение по индексу необязательно должно совпадать с размерностью массива, в отличие от обращения по маске. На практике удобно записывать значения маски в отдельную переменную. Для выбора конкретного столбца в многомерном массиве используется синтаксис срезов [:, k], где k - номер столбца. Если k равняется -1, то используется последний столбец или элемент. Так, например, для массива `arr = np.array([[0, 1], [2, 3], [4, 5])` выражение `arr[:, 0]` вернет массив [0, 2, 4]. Поскольку используется индекс срезов (стандартный синтаксис Python), то можно также выполнять срезы многомерных массивов. Для предыдущего примера `arr[1:2, 0:1]` вернёт [[2]]\n",
        "* __np.unique__ - аналог SELECT DISTINCT в SQL. При стандартных параметрах возвращает одномерный подмассив, содержащий уникальные элементы. Если указать выставить флаг __return_inverse__, то вернется массив с номерами отсчётов массива с уникальными элементами. По сути выполняется Label Encoding\n",
        "* __np.concatenate__ - конкатенация многомерного массива вдоль указанной оси. Номер оси указывается через аргумент __axis__. Например может быть использован для объединения нескольких признаков или нескольких наборов данных. В контексте изображений может использоваться для объединения или склейки нескольких изображений в одно как вертикально, так и горизонтально. В контексте звука - склеивание двух аудиодорожек.\n",
        "* __np.max__, __np.min__ - возвращает максимальный и минимальный элементы массива вдоль указанной оси, соответственно. Если номер оси не указан, то возвращается число. Номер оси указывается через аргумент __axis__. Если указывается -1, то полагается, что используется последний номер оси. Разрешается также и вызов функции в качестве метода многомерного массива: `arr.max()`\n",
        "* __np.argmax__ - возвращает индекс максимального элемента массива вдоль указанной оси. Если номер оси не указан, то возвращается первый индекс, соответвующих максимальному значению в массиве, т.е. одно число. Номер оси указывается через аргумент __axis__. Если указывается -1, то полагается, что используется последний номер оси. На практике используется для расчёта метрики доли правильных ответов модели (Accuracy). Разрешается также и вызов функции в качестве метода многомерного массива: `arr.argmax(axis=-1)`"
      ]
    },
    {
      "cell_type": "markdown",
      "metadata": {
        "id": "pL2CwPP4foPa"
      },
      "source": [
        "### Методы и функции Pickle\n",
        "(Документация: https://docs.python.org/3/library/pickle.html)"
      ]
    },
    {
      "cell_type": "markdown",
      "metadata": {
        "id": "OCx3YmHafoPa"
      },
      "source": [
        "* __pickle.dump__ - сериализация структуры данных Python. Первым аргументом идёт сама структура, а вторым FileObject. При этом FileObject должен быть открыт в режиме записи байт (wb). Можно указать кодировку байт (big endian/ little endian). Тем самым можно хранить на постоянном носителе стандартные структуры данных, в том числе NumPy массивы.\n",
        "* __pickle.load__ - десериализация структуры данных Python. Первым аргументом идёт FileObject. При этом FileObject должен быть открыт в режиме чтения байт (rb). Можно указать кодировку байт (big endian/ little endian). Тем самым можно загружать ранее сохранённые структуры данных, что может быть полезно, если для их создания требуется длительное время (например, параметры модели глубокого обучения)\n"
      ]
    },
    {
      "cell_type": "markdown",
      "metadata": {
        "id": "QC12OZoxfoPa"
      },
      "source": [
        "### Методы и функции Sklearn\n",
        "(Документация: https://scikit-learn.org/stable/modules/classes.html)"
      ]
    },
    {
      "cell_type": "markdown",
      "metadata": {
        "id": "xIvGpvkYfoPb"
      },
      "source": [
        "* __datasets.make_circles__, __datasets.make_moons__ - генерация синтетической обучающей выборки для задачи классификации, возвращает X - двухмерный массив с числом примеров и числом признаков (признаков 2), а также одномерный массив с метками классов (0 или 1)\n",
        "\n",
        "* __metrics.classification_report__ - cоздает текстовый отчет, показывающий основные метрики классификации (доля правильных ответов, полнота, точность, f1-мера). В качестве первого аргумента передаются истинные метки класса, в качестве второго - метки класса, предсказанные моделью. Дополнительные полезные аргументы: digits - число выводимых знаков после запятой (по умолчанию 2), output_dict - возвращает словарь с расчитанными метриками вместо строки, sample_weight - расчитывает взвешенные метрики на основе веса каждого примера\n",
        "\n",
        "* __metrics.confusion_matrix__ - вычисляет матрицу ошибок модели для оценки точности классификации. Матрица ошибок идеальной модели имеет значения только на главной диагонали. Может быть использована для подсчёта всех классических метрик классификации (доля правильных ответов, полнота, точность, специфичность, f1-мера)."
      ]
    },
    {
      "cell_type": "markdown",
      "metadata": {
        "id": "IHlZJ6u8foPb"
      },
      "source": [
        "### Методы и функции PIL\n",
        "\n",
        "(Документация: https://pillow.readthedocs.io/en/stable/)"
      ]
    },
    {
      "cell_type": "markdown",
      "metadata": {
        "id": "LiZ6VpgQfoPb"
      },
      "source": [
        "* __Image.fromarray__ - cоздает объект Image на основе двухмерного массива или двухмерного массива с каналами. Часто ругается, если тип данных не uint8. Часто ругается, если производится попытка создать черно-белое изображения из картинки размерностью (W, H, 1). Для того, чтобы получить обратно массив из объекта Image, достаточно привести его к NumPy массиву, например np.array(img)\n",
        "\n",
        "* __Image.resize__ - меняет разрешение изображения с помощью интерполяции. Первым аргументом указывается список с новой шириной и высотой изображения. При желании можно указать тип интерполяции через аргумент resample. Поддерживаемые значения: PIL.Image.NEAREST, PIL.Image.BOX, PIL.Image.BILINEAR, PIL.Image.HAMMING, PIL.Image.BICUBIC, PIL.Image.LANCZOS. По умолчанию используется бикубическая интерполяция.\n",
        "\n",
        "* __Image.convert__ - переводит изображение из одной цветовой схемы в другую. Новая цветовая схема передается строкой, L - черно белая, LA - черно-белая с прозрачностью, RGB - стандартная цветовая схема с 3 каналами, RGBA - стандартная цветовая схема с 3 каналами цвета и одним каналом прозрачности, HSV - альтернативное цветовое представление и т.д.\n",
        "\n",
        "* __Image.open__ - считывает изображение по указанному пути в виде строки или FileObject. При создании набора данных может неправильно определить формат (например L вместо RGB), поэтому рекомендуется сразу после open приводить к нужному формату при помощи метода convert\n",
        "\n",
        "* __Image.save__ - сохраняет изображение по указанному пути в виде строки или FileObject. Если указывается FileObject, то нужно также указать формат изображения в аргументе format, например 'PNG' или 'JPEG'"
      ]
    },
    {
      "cell_type": "markdown",
      "metadata": {
        "id": "lbgjhQ_QfoPb"
      },
      "source": [
        "### Методы и функции Matplotlib\n",
        "\n",
        "(Документация: https://matplotlib.org/stable/api/index.html)"
      ]
    },
    {
      "cell_type": "markdown",
      "metadata": {
        "id": "WkICIncTfoPc"
      },
      "source": [
        "Принятые сокращения:\n",
        "* matplotlib.pyplot - plt\n",
        "\n",
        "Методы:\n",
        "* __plt.plot__ - рисует график по точкам и соединяет их линией. Первым аргументом передаются x-координаты, вторым - у-координаты. Если не передавать второй аргумент, х координаты будут приняты за у, а в качестве х будут использованы отсчёты массива. Дополнительные полезные аргументы: linestyle - тип отображаемой линиии ('--', '-', '-.' и т.д.), color - цвет линии ('k' - черный, 'r' - красный, 'white' - белый и т.д.), alpha - прозрачность линии, число от 0 (линия не видна) до 1 (нет прозрачности), label - текстовая метка данного графика.\n",
        "* __plt.scatter__ - рисует график по точкам юез соединения линиями. Первым аргументом передаются x-координаты, вторым - у-координаты. Если не передавать второй аргумент, х координаты будут приняты за у, а в качестве х будут использованы отсчёты массива. Дополнительные полезные аргументы: s - размер точек, color - цвет точек ('k' - черный, 'r' - красный, 'white' - белый и т.д.), alpha - прозрачность точек, число от 0 (линия не видна) до 1 (нет прозрачности), label - текстовая метка данного графика.\n",
        "* __plt.contourf__ - рисует заполненные контурные линии, разграничивающие границы.\n",
        "* __plt.show__ - принудительная отрисовка графика, может использоваться для вывода нескольких графиков в одном блоке кода.\n",
        "* __plt.legend__ - отображает ранее указанные метки графиков\n",
        "* __plt.xlim__ - ограничивает диапазон x-координат от первого до второго аргумента. По умолчанию диапазон горизонтальной оси подбирается автоматически на основе используемых данных. Для задания диапозана значений горизонтальной оси вручную и используется данный метод\n",
        "* __plt.ylim__ - аналогично __plt.xlim__, но для вертикальнйо оси.\n",
        "\n",
        "\n",
        "\n"
      ]
    }
  ],
  "metadata": {
    "colab": {
      "collapsed_sections": [
        "VrOocc6D_O7M"
      ],
      "name": "Lab3.ipynb",
      "provenance": [],
      "toc_visible": true
    },
    "kernelspec": {
      "display_name": "Python 3",
      "name": "python3"
    },
    "language_info": {
      "name": "python"
    }
  },
  "nbformat": 4,
  "nbformat_minor": 0
}